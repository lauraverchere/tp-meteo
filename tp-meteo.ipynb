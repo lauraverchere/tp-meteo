{
 "cells": [
  {
   "cell_type": "markdown",
   "metadata": {},
   "source": [
    "# TP : Pipeline de Données Météorologiques en Temps Réel avec Kafka\n",
    "\n",
    "**Objectif** : Dans ce TP, vous allez utiliser Kafka pour transmettre des données météorologiques en temps réel d’un producteur (qui récupère les données) vers un consumer (qui les affiche). Vous configurerez un producteur pour récupérer les données météo de plusieurs villes via une API, puis un consumer pour consommer et afficher ces données en continu.\n",
    "\n",
    "---\n",
    "\n",
    "## Partie 1 : Producteur Kafka – Récupération et Envoi des Données Météorologiques\n",
    "\n",
    "Le producteur Kafka va récupérer les données météo pour trois villes cibles et les envoyer dans un topic Kafka nommé `tp-meteo`. \n",
    "\n",
    "### Étapes :\n"
   ]
  },
  {
   "cell_type": "markdown",
   "metadata": {},
   "source": [
    "     \n",
    "        "
   ]
  },
  {
   "cell_type": "markdown",
   "metadata": {},
   "source": [
    "1. **Configuration de l'API et des Villes** :\n",
    "   - Utilisez une clé API pour accéder à OpenWeatherMap (une API de données météo).\n",
    "   - Définissez trois villes cibles : `Paris`, `London`, et `Tokyo`."
   ]
  },
  {
   "cell_type": "code",
   "execution_count": 5,
   "metadata": {},
   "outputs": [],
   "source": [
    "# Configuration\n",
    "API_KEY = '60c351069138b06a8e6cc9b06d8c4752'  # Clé API\n",
    "CITIES = ['Paris', 'London', 'Tokyo']  # Villes cibles"
   ]
  },
  {
   "cell_type": "markdown",
   "metadata": {},
   "source": [
    "2. **Initialisation du Producteur Kafka** :\n",
    "   - Configurez Kafka pour qu’il envoie des messages au serveur `localhost:9092` dans le topic `tp-meteo`.\n",
    "   - Kafka sera utilisé pour envoyer les données météorologiques formatées en JSON."
   ]
  },
  {
   "cell_type": "code",
   "execution_count": null,
   "metadata": {},
   "outputs": [
    {
     "data": {
      "text/plain": [
       "<kafka.producer.future.FutureRecordMetadata at 0x7f3e7b9d3220>"
      ]
     },
     "execution_count": 11,
     "metadata": {},
     "output_type": "execute_result"
    }
   ],
   "source": [
    "from kafka import KafkaProducer\n",
    "import json\n",
    "\n",
    "# Configuration\n",
    "KAFKA_SERVER = 'localhost:9092'\n",
    "\n",
    "# Initialisation du producteur Kafka\n",
    "producer = KafkaProducer(\n",
    "    bootstrap_servers=[KAFKA_SERVER],\n",
    "    value_serializer=lambda v: json.dumps(v).encode('utf-8')\n",
    ")\n",
    "\n",
    "for city in CITIES : \n",
    "  # Envoi des données en continu\n",
    "  producer.send(\"tp-meteo\",  value=city)\n"
   ]
  },
  {
   "cell_type": "markdown",
   "metadata": {},
   "source": [
    "3. **Fonction de Récupération des Données** :\n",
    "   - Écrivez une fonction `get_weather_data` qui récupère les informations météo pour une ville donnée.\n",
    "   - La fonction envoie une requête à l’API et retourne les données si la requête est réussie."
   ]
  },
  {
   "cell_type": "code",
   "execution_count": 8,
   "metadata": {},
   "outputs": [
    {
     "data": {
      "text/plain": [
       "{'coord': {'lon': -0.1257, 'lat': 51.5085},\n",
       " 'weather': [{'id': 804,\n",
       "   'main': 'Clouds',\n",
       "   'description': 'overcast clouds',\n",
       "   'icon': '04d'}],\n",
       " 'base': 'stations',\n",
       " 'main': {'temp': 11.78,\n",
       "  'feels_like': 11,\n",
       "  'temp_min': 10.86,\n",
       "  'temp_max': 12.81,\n",
       "  'pressure': 1032,\n",
       "  'humidity': 76,\n",
       "  'sea_level': 1032,\n",
       "  'grnd_level': 1027},\n",
       " 'visibility': 10000,\n",
       " 'wind': {'speed': 2.57, 'deg': 10},\n",
       " 'clouds': {'all': 100},\n",
       " 'dt': 1731587989,\n",
       " 'sys': {'type': 2,\n",
       "  'id': 2075535,\n",
       "  'country': 'GB',\n",
       "  'sunrise': 1731568648,\n",
       "  'sunset': 1731600763},\n",
       " 'timezone': 0,\n",
       " 'id': 2643743,\n",
       " 'name': 'London',\n",
       " 'cod': 200}"
      ]
     },
     "execution_count": 8,
     "metadata": {},
     "output_type": "execute_result"
    }
   ],
   "source": [
    "import requests\n",
    "# Fonction pour récupérer les données météo\n",
    "def get_weather_data(city):\n",
    "    url = f\"http://api.openweathermap.org/data/2.5/weather?q={city}&appid={API_KEY}&units=metric\"\n",
    "    response = requests.get(url)\n",
    "    return response.json() if response.status_code == 200 else None\n",
    "\n",
    "get_weather_data(\"London\")"
   ]
  },
  {
   "cell_type": "markdown",
   "metadata": {},
   "source": [
    "\n",
    "4. **Boucle d’Envoi en Continu** :\n",
    "   - Utilisez une boucle pour envoyer les données de chaque ville au topic Kafka toutes les minutes.\n",
    "   - Affichez un message de confirmation dans la console pour chaque envoi réussi."
   ]
  },
  {
   "cell_type": "code",
   "execution_count": 13,
   "metadata": {},
   "outputs": [
    {
     "name": "stdout",
     "output_type": "stream",
     "text": [
      "Les données météo pour Paris ont été envoyées avec succès.\n",
      "Les données météo pour London ont été envoyées avec succès.\n",
      "Les données météo pour Tokyo ont été envoyées avec succès.\n",
      "Les données météo pour Paris ont été envoyées avec succès.\n",
      "Les données météo pour London ont été envoyées avec succès.\n",
      "Les données météo pour Tokyo ont été envoyées avec succès.\n"
     ]
    },
    {
     "ename": "KeyboardInterrupt",
     "evalue": "",
     "output_type": "error",
     "traceback": [
      "\u001b[0;31m---------------------------------------------------------------------------\u001b[0m",
      "\u001b[0;31mKeyboardInterrupt\u001b[0m                         Traceback (most recent call last)",
      "Cell \u001b[0;32mIn[13], line 31\u001b[0m\n\u001b[1;32m     28\u001b[0m             \u001b[38;5;28mprint\u001b[39m(\u001b[38;5;124mf\u001b[39m\u001b[38;5;124m\"\u001b[39m\u001b[38;5;124mImpossible de récupérer les données pour \u001b[39m\u001b[38;5;132;01m{\u001b[39;00mcity\u001b[38;5;132;01m}\u001b[39;00m\u001b[38;5;124m.\u001b[39m\u001b[38;5;124m\"\u001b[39m)\n\u001b[1;32m     30\u001b[0m     \u001b[38;5;66;03m# Attendre 60 secondes avant le prochain envoi\u001b[39;00m\n\u001b[0;32m---> 31\u001b[0m     \u001b[43mtime\u001b[49m\u001b[38;5;241;43m.\u001b[39;49m\u001b[43msleep\u001b[49m\u001b[43m(\u001b[49m\u001b[38;5;241;43m60\u001b[39;49m\u001b[43m)\u001b[49m\n\u001b[1;32m     33\u001b[0m \u001b[38;5;66;03m# Assurer que toutes les données sont envoyées avant de fermer le producteur\u001b[39;00m\n\u001b[1;32m     34\u001b[0m producer\u001b[38;5;241m.\u001b[39mflush()\n",
      "\u001b[0;31mKeyboardInterrupt\u001b[0m: "
     ]
    }
   ],
   "source": [
    "import time \n",
    "\n",
    "# Boucle d'envoi en continu\n",
    "while True:\n",
    "    for city in CITIES:\n",
    "        weather_data = get_weather_data(city)\n",
    "        \n",
    "        if weather_data:\n",
    "            # Extraire les données pertinentes\n",
    "            data = {\n",
    "                'city': city,\n",
    "                'temp': weather_data['main']['temp'],\n",
    "                'feels_like': weather_data['main']['feels_like'],\n",
    "                'temp_min': weather_data['main']['temp_min'],\n",
    "                'temp_max': weather_data['main']['temp_max'],\n",
    "                'pressure': weather_data['main']['pressure'],\n",
    "                'humidity': weather_data['main']['humidity'],\n",
    "                'sea_level': weather_data['main']['sea_level'],\n",
    "                'grnd_level': weather_data['main']['grnd_level']\n",
    "            }\n",
    "            \n",
    "            # Envoi des données dans le topic Kafka 'tp-meteo'\n",
    "            producer.send('tp-meteo', value=data)\n",
    "            \n",
    "            # Affichage du message de confirmation\n",
    "            print(f\"Les données météo pour {city} ont été envoyées avec succès.\")\n",
    "        else:\n",
    "            print(f\"Impossible de récupérer les données pour {city}.\")\n",
    "    \n",
    "    # Attendre 60 secondes avant le prochain envoi\n",
    "    time.sleep(60)\n",
    "\n",
    "# Assurer que toutes les données sont envoyées avant de fermer le producteur\n",
    "producer.flush()\n",
    "\n",
    "# Fermeture du producteur après l'envoi\n",
    "producer.close()"
   ]
  }
 ],
 "metadata": {
  "kernelspec": {
   "display_name": "kafka_env",
   "language": "python",
   "name": "python3"
  },
  "language_info": {
   "codemirror_mode": {
    "name": "ipython",
    "version": 3
   },
   "file_extension": ".py",
   "mimetype": "text/x-python",
   "name": "python",
   "nbconvert_exporter": "python",
   "pygments_lexer": "ipython3",
   "version": "3.10.15"
  }
 },
 "nbformat": 4,
 "nbformat_minor": 2
}
